{
 "cells": [
  {
   "cell_type": "code",
   "execution_count": 3,
   "id": "106b36f8-4507-49d9-ab3d-3c25bffdd418",
   "metadata": {},
   "outputs": [
    {
     "data": {
      "text/plain": [
       "(304.46, 101.50826044601253, (285.8113013807923, 323.10869861920764))"
      ]
     },
     "execution_count": 3,
     "metadata": {},
     "output_type": "execute_result"
    }
   ],
   "source": [
    "import numpy as np\n",
    "import scipy.stats as st\n",
    "\n",
    "data = [\n",
    "    418, 379, 77, 212, 378,\n",
    "    363, 434, 348, 245, 341,\n",
    "    331, 356, 423, 330, 247,\n",
    "    351, 151, 220, 383, 257,\n",
    "    307, 297, 448, 391, 210,\n",
    "    158, 310, 331, 348, 124,\n",
    "    523, 356, 210, 364, 406,\n",
    "    331, 364, 352, 299, 221,\n",
    "    466, 150, 282, 221, 432,\n",
    "    366, 195, 96, 219, 202\n",
    "]\n",
    "\n",
    "\n",
    "data = np.array(data)\n",
    "\n",
    "\n",
    "n = len(data)\n",
    "mean = np.mean(data)\n",
    "std_dev = np.std(data, ddof=1)\n",
    "\n",
    "\n",
    "confidence = 0.80\n",
    "alpha = 1 - confidence\n",
    "\n",
    "\n",
    "t_critical = st.t.ppf(1 - alpha/2, df=n-1)\n",
    "\n",
    "\n",
    "margin_error = t_critical * (std_dev / np.sqrt(n))\n",
    "\n",
    "\n",
    "ci_lower = mean - margin_error\n",
    "ci_upper = mean + margin_error\n",
    "\n",
    "mean, std_dev, (ci_lower, ci_upper)\n"
   ]
  },
  {
   "cell_type": "markdown",
   "id": "8e4ef433-68e9-4435-9e00-5afc4dac4fa9",
   "metadata": {},
   "source": []
  },
  {
   "cell_type": "markdown",
   "id": "4476b0ea-7ecd-4485-b9b6-751f86421126",
   "metadata": {},
   "source": [
    "Sample mean: 304.46\n",
    "Sample standard deviation: 101.508\n",
    "80% Confidence Interval: (285.81, 323.10)"
   ]
  },
  {
   "cell_type": "code",
   "execution_count": null,
   "id": "ddf13216-81cb-4ace-b8c7-c0560a540b20",
   "metadata": {},
   "outputs": [],
   "source": []
  }
 ],
 "metadata": {
  "kernelspec": {
   "display_name": "Python 3 (ipykernel)",
   "language": "python",
   "name": "python3"
  },
  "language_info": {
   "codemirror_mode": {
    "name": "ipython",
    "version": 3
   },
   "file_extension": ".py",
   "mimetype": "text/x-python",
   "name": "python",
   "nbconvert_exporter": "python",
   "pygments_lexer": "ipython3",
   "version": "3.12.4"
  }
 },
 "nbformat": 4,
 "nbformat_minor": 5
}
